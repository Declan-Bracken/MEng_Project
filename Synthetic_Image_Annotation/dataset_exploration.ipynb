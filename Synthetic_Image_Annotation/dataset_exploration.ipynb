{
 "cells": [
  {
   "cell_type": "code",
   "execution_count": 3,
   "metadata": {},
   "outputs": [
    {
     "name": "stdout",
     "output_type": "stream",
     "text": [
      "/Users/declanbracken/Development/UofT_Projects/Meng_Project/code_base\n"
     ]
    }
   ],
   "source": [
    "import os\n",
    "# print(os.getcwd())\n",
    "os.chdir(\"/Users/declanbracken/Development/UofT_Projects/Meng_Project/code_base\")\n",
    "print(os.getcwd())"
   ]
  },
  {
   "cell_type": "code",
   "execution_count": 4,
   "metadata": {},
   "outputs": [
    {
     "ename": "KeyError",
     "evalue": "'image'",
     "output_type": "error",
     "traceback": [
      "\u001b[0;31m---------------------------------------------------------------------------\u001b[0m",
      "\u001b[0;31mKeyError\u001b[0m                                  Traceback (most recent call last)",
      "Cell \u001b[0;32mIn[4], line 22\u001b[0m\n\u001b[1;32m     19\u001b[0m interactor\u001b[38;5;241m.\u001b[39mcurrent_index \u001b[38;5;241m=\u001b[39m \u001b[38;5;241m0\u001b[39m\n\u001b[1;32m     21\u001b[0m \u001b[38;5;66;03m# Display the first entry\u001b[39;00m\n\u001b[0;32m---> 22\u001b[0m \u001b[43minteractor\u001b[49m\u001b[38;5;241;43m.\u001b[39;49m\u001b[43mdisplay_image\u001b[49m\u001b[43m(\u001b[49m\u001b[43minteractor\u001b[49m\u001b[38;5;241;43m.\u001b[39;49m\u001b[43mcurrent_index\u001b[49m\u001b[43m)\u001b[49m\n\u001b[1;32m     23\u001b[0m \u001b[38;5;66;03m# interactor.print_prompt_and_response(interactor.current_index)\u001b[39;00m\n\u001b[1;32m     24\u001b[0m interactor\u001b[38;5;241m.\u001b[39minteractive_edit_response(interactor\u001b[38;5;241m.\u001b[39mcurrent_index)\n",
      "File \u001b[0;32m~/Development/UofT_Projects/Meng_Project/code_base/Synthetic_Image_Annotation/Dataset_Exploration.py:36\u001b[0m, in \u001b[0;36mDatasetInteractor.display_image\u001b[0;34m(self, index)\u001b[0m\n\u001b[1;32m     33\u001b[0m     \u001b[38;5;28;01mreturn\u001b[39;00m\n\u001b[1;32m     35\u001b[0m entry \u001b[38;5;241m=\u001b[39m \u001b[38;5;28mself\u001b[39m\u001b[38;5;241m.\u001b[39mdataset[index]\n\u001b[0;32m---> 36\u001b[0m \u001b[38;5;28mself\u001b[39m\u001b[38;5;241m.\u001b[39mimage_path \u001b[38;5;241m=\u001b[39m \u001b[43mentry\u001b[49m\u001b[43m[\u001b[49m\u001b[38;5;124;43m'\u001b[39;49m\u001b[38;5;124;43mimage\u001b[39;49m\u001b[38;5;124;43m'\u001b[39;49m\u001b[43m]\u001b[49m\n\u001b[1;32m     37\u001b[0m \u001b[38;5;28mprint\u001b[39m(\u001b[38;5;28mself\u001b[39m\u001b[38;5;241m.\u001b[39mimage_path)\n\u001b[1;32m     38\u001b[0m \u001b[38;5;28;01mif\u001b[39;00m \u001b[38;5;129;01mnot\u001b[39;00m os\u001b[38;5;241m.\u001b[39mpath\u001b[38;5;241m.\u001b[39mexists(\u001b[38;5;28mself\u001b[39m\u001b[38;5;241m.\u001b[39mimage_path):\n",
      "\u001b[0;31mKeyError\u001b[0m: 'image'"
     ]
    }
   ],
   "source": [
    "# Import your module\n",
    "from Dataset_Exploration import DatasetInteractor\n",
    "# dataset_path = 'Synthetic_Image_Annotation/Cleaned_JSON/modified_data.json'\n",
    "# dataset_path = \"/Users/declanbracken/Development/UofT_Projects/Meng_Project/code_base/Synthetic_Image_Annotation/Cleaned_JSON/cleaned_transcripts.json\"\n",
    "# dataset_path = \"/Users/declanbracken/Development/UofT_Projects/Meng_Project/code_base/Synthetic_Image_Annotation/Cleaned_JSON/cleaned_deleted_transcripts.json\"\n",
    "# dataset_path = \"/Users/declanbracken/Development/UofT_Projects/Meng_Project/code_base/Synthetic_Image_Annotation/Cleaned_JSON/data/val_data.json\"\n",
    "dataset_path = 'Synthetic_Image_Annotation/Test_Data/Test_Responses.json'\n",
    "interactor = DatasetInteractor(dataset_path)\n",
    "\n",
    "# DELETE OR FIX SAMPLE 4\n",
    "# Index 64, 70, 71, 85, 86, 87, 89, 118, 131 contains quotations around each entry \" \"\n",
    "# Index 80, 108 has no courses? Only term data\n",
    "# Fully capitalize entry 86, 113, 114, 115, 119, 122\n",
    "# Alter 88 (no collumn headers, uninterpretable)\n",
    "# remove 94, 95, 122, 123, 124, 125, 126, 127, 128, 132, 133, 134, 135, 136, 137, 138, 139, 140, 141, 142, 143, 144, 147, 148(repeat)\n",
    "# remove 81, 82, 83, 84, \n",
    "# remove 98 (chinese)\n",
    "\n",
    "interactor.current_index = 0\n",
    "\n",
    "# Display the first entry\n",
    "interactor.display_image(interactor.current_index)\n",
    "# interactor.print_prompt_and_response(interactor.current_index)\n",
    "interactor.interactive_edit_response(interactor.current_index)\n",
    "# print(interactor.image_path)"
   ]
  },
  {
   "cell_type": "code",
   "execution_count": 8,
   "metadata": {},
   "outputs": [
    {
     "name": "stdout",
     "output_type": "stream",
     "text": [
      "8\n"
     ]
    }
   ],
   "source": [
    "print(interactor.current_index)"
   ]
  },
  {
   "cell_type": "code",
   "execution_count": 4,
   "metadata": {},
   "outputs": [],
   "source": [
    "#Capitalize and Strip quotations from a specific set of entries\n",
    "# capitalize_indices = [86, 113, 114, 115, 119, 122]\n",
    "# strip_indices = [64, 70, 71, 85, 86, 87, 89, 118, 131]\n",
    "# interactor.modify_entries(capitalize_indices, strip_indices)"
   ]
  },
  {
   "cell_type": "code",
   "execution_count": 3,
   "metadata": {},
   "outputs": [
    {
     "name": "stdout",
     "output_type": "stream",
     "text": [
      "Dataset saved to /Users/declanbracken/Development/UofT_Projects/Meng_Project/code_base/Synthetic_Image_Annotation/Cleaned_JSON/cleaned_deleted_transcripts.json\n"
     ]
    }
   ],
   "source": [
    "# Remove any trailing newlines and spaces before/after commas\n",
    "# interactor.remove_spaces()"
   ]
  },
  {
   "cell_type": "code",
   "execution_count": 7,
   "metadata": {},
   "outputs": [
    {
     "data": {
      "application/vnd.jupyter.widget-view+json": {
       "model_id": "012d3cb04d17426cb48ae09842921e24",
       "version_major": 2,
       "version_minor": 0
      },
      "text/plain": [
       "VBox(children=(Textarea(value='', description='Remove Indices:', layout=Layout(height='50px', width='100%'), p…"
      ]
     },
     "metadata": {},
     "output_type": "display_data"
    }
   ],
   "source": [
    "# For Deleting A set of Transcripts:\n",
    "# Delete according to above notes (Mainly due to repeats, and therefore leakage): 80, 81, 82, 83, 84, 94, 95, 98, 108, 122, 123, 124, 125, 126, 127, 128, 132, 133, 134, 135, 136, 137, 138, 139, 140, 141, 142, 143, 144, 147, 148\n",
    "# new_dataset_path = \"/Users/declanbracken/Development/UofT_Projects/Meng_Project/code_base/Synthetic_Image_Annotation/Cleaned_JSON/cleaned_deleted_transcripts.json\"\n",
    "interactor.interactive_delete_entries(dataset_path)"
   ]
  },
  {
   "cell_type": "code",
   "execution_count": 20,
   "metadata": {},
   "outputs": [
    {
     "name": "stdout",
     "output_type": "stream",
     "text": [
      "All entries can be converted to CSV.\n"
     ]
    }
   ],
   "source": [
    "#Ensure all entries can be converted to a csv\n",
    "interactor.check_csv_consistency()"
   ]
  }
 ],
 "metadata": {
  "kernelspec": {
   "display_name": "yolo_env",
   "language": "python",
   "name": "python3"
  },
  "language_info": {
   "codemirror_mode": {
    "name": "ipython",
    "version": 3
   },
   "file_extension": ".py",
   "mimetype": "text/x-python",
   "name": "python",
   "nbconvert_exporter": "python",
   "pygments_lexer": "ipython3",
   "version": "3.9.6"
  }
 },
 "nbformat": 4,
 "nbformat_minor": 2
}
