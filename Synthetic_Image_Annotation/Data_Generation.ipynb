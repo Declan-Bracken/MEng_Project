{
 "cells": [
  {
   "cell_type": "code",
   "execution_count": 3,
   "metadata": {},
   "outputs": [
    {
     "name": "stdout",
     "output_type": "stream",
     "text": [
      "Generated Label:\n",
      "Here is the extracted course information formatted into CSV format based on the provided transcript image:\n",
      "\n",
      "```csv\n",
      "Term, Course Code, Course Title, Grade, Hours, Q Pts\n",
      "FALL 2011, SPED 301, INTRO TO SPED, B, 3.0, 9.0\n",
      "FALL 2011, SPED 312, CLASSRM MGMT ELEM, A, 3.0, 12.0\n",
      "FALL 2011, SPED 322, PBS FOR A-B, A, 3.0, 12.0\n",
      "FALL 2011, MATH 207, NUMBER/OPER SPC HRNG MECH, A, 3.0, 12.0\n",
      "FALL 2012, BIO 151, GENERAL BIO I, C, 3.0, 6.0\n",
      "FALL 2012, BIO 152, GENERAL BIO, LAB I, B, 1.0, 3.0\n",
      "FALL 2012, MATH 155, ELEM MH NUMBER STRUCTURE, B, 3.0, 9.0\n",
      "FALL 2012, SPED 424, PROBLEMS OF EXCEPTIONAL CHILD, A, 3.0, 12.0\n",
      "SPRING 2011, KIN 133, NUTRITION FIT AND WELL, W, 0.0, 0.0\n",
      "SPRING 2011, ENG 102, COMPOSITION, M, 0.0, 0.0\n",
      "SPRING 2011, SOC 312, SOCIAL PROBLEM/MODERN TIME, M, 0.0, 0.0\n",
      "SPRING 2012, MATH 200, SPECL TOPICS FOR ELEM, P, 3.0, 0.0\n",
      "SPRING 2012, BIOL 151, GENERAL BIO, C, 3.0, 6.0\n",
      "SPRING 2012, CMPS 110, COMPUTER LITERACY, A, 3.0, 12.0\n",
      "SPRING 2012, SPED 210, DIVERSITY IN CLASSROOM, A, 2.0, 8.0\n",
      "SPRING 2012, EDUC 212, CHARACTRSTCS OF INDIV I, A, 1.0, 4.0\n",
      "```\n",
      "\n",
      "This table includes term, course code, course title, grade, hours, and quality points as they were listed on the transcript. Some grades have been marked as \"W\" (Withdrawn), \"M\" (Missing), and \"P\" (Passed) which are reflected in the GPA calculations accordingly.\n"
     ]
    }
   ],
   "source": [
    "import openai\n",
    "import random\n",
    "import os\n",
    "from PIL import Image\n",
    "import base64\n",
    "import requests\n",
    "# import pytesseract\n",
    "\n",
    "# Set your OpenAI API key\n",
    "api_key = 'sk-proj-WMUAiU7RSVuQyXru8yn7T3BlbkFJbqBfbs2i7he2nuGBiqi5'\n",
    "\n",
    "# client = openai.OpenAI(api_key = api_key)\n",
    "\n",
    "# Define the prompts for different parts of the extraction\n",
    "prompts = [\n",
    "    \"Extract only the course information from the attached transcript image, including but not limited to subjects/course codes, grades, credits, and other information. Please then structure it into a table in CSV format. If the image is not a transcript, respond with 'not a transcript'.\",\n",
    "    \"Please transcribe only the grade data from the attached transcript image into a CSV format with the appropriate fields. If the image is not a transcript, respond with 'not a transcript'.\",\n",
    "    \"From the attached transcript image, extract and organize the course and grade data, along with any other columns, into CSV format. No need to include term data or student basic information. Ensure all data is accurately transcribed and formatted. If the image is not a transcript, respond with 'not a transcript'.\",\n",
    "    \"Extract comprehensive course details from the attached transcript image, such as subject codes, course names, grades, and credits. If there are more or other column headers, include them aswell. Organize this data into a table in CSV format. Only extract data relevant to the course information. If the image does not contain a student transcript, respond with 'not a transcript'.\",\n",
    "    \"Identify and extract the tabular grade information from the attached transcript image. Transcribe this information into a table in CSV format. If the image is not a transcript, respond with 'not a transcript'.\",\n",
    "    \"Extract and transcribe just the course information from the transcript image into a table in CSV format. Include specific fields for the courses, grades, and any other columns available. Ensure all data is formatted correctly. If the image is not a transcript, respond with 'not a transcript'.\"\n",
    "]\n",
    "\n",
    "# Function to encode the image\n",
    "def encode_image(image_path):\n",
    "  with open(image_path, \"rb\") as image_file:\n",
    "    return base64.b64encode(image_file.read()).decode('utf-8')\n",
    "  \n",
    "url = \"https://drive.usercontent.google.com/download?id=1LJpXWe-b_ItKYMR3Mz-28xnzq6wZQdF9&authuser=0\"\n",
    "# url = \"/Users/declanbracken/Development/UofT_Projects/Meng_Project/code_base/Synthetic_Image_Annotation/images/1M_8OgVIUafvwupnvRVkjCiFtw9F3LZ4R.jpg\"\n",
    "\n",
    "def generate_label(url):\n",
    "    # Randomly select a prompt\n",
    "    prompt = random.choice(prompts)\n",
    "\n",
    "    # Getting the base64 string\n",
    "    base64_image = encode_image(url)\n",
    "\n",
    "    headers = {\n",
    "    \"Content-Type\": \"application/json\",\n",
    "    \"Authorization\": f\"Bearer {api_key}\"\n",
    "    }\n",
    "\n",
    "    payload = {\n",
    "    \"model\": \"gpt-4-turbo\",\n",
    "    \"messages\": [\n",
    "        {\n",
    "        \"role\": \"user\",\n",
    "        \"content\": [\n",
    "            {\n",
    "            \"type\": \"text\",\n",
    "            \"text\": f\"{prompt}\"\n",
    "            },\n",
    "            {\n",
    "            \"type\": \"image_url\",\n",
    "            \"image_url\": {\n",
    "                \"url\": f\"data:image/jpeg;base64,{base64_image}\" #f\"{url}\"\n",
    "            }\n",
    "            }\n",
    "        ]\n",
    "        }\n",
    "    ],\n",
    "    \"max_tokens\": 2048\n",
    "    }\n",
    "\n",
    "    response = requests.post(\"https://api.openai.com/v1/chat/completions\", headers=headers, json=payload)\n",
    "    return response\n",
    "\n",
    "# Getting the base64 string\n",
    "# Test with one image\n",
    "# image_path = \"/Users/declanbracken/Development/UofT_Projects/Meng_Project/Transcripts/Web_Scraped_Transcripts/2015-queens-university-transcript-1-2048.webp\"  # Update with the path to your image\n",
    "\n",
    "# base64_image = encode_image(image_path)\n",
    "\n",
    "\n",
    "label = generate_label(url)\n",
    "print(\"Generated Label:\")\n",
    "output = label.json()\n",
    "print(output[\"choices\"][0][\"message\"][\"content\"])"
   ]
  },
  {
   "cell_type": "code",
   "execution_count": 2,
   "metadata": {},
   "outputs": [
    {
     "name": "stdout",
     "output_type": "stream",
     "text": [
      "{'error': {'message': 'Invalid content type. image_url is only supported by certain models.', 'type': 'invalid_request_error', 'param': 'messages.[0].content.[1].type', 'code': None}}\n"
     ]
    }
   ],
   "source": [
    "print(output)"
   ]
  }
 ],
 "metadata": {
  "kernelspec": {
   "display_name": "NLP_env",
   "language": "python",
   "name": "python3"
  },
  "language_info": {
   "codemirror_mode": {
    "name": "ipython",
    "version": 3
   },
   "file_extension": ".py",
   "mimetype": "text/x-python",
   "name": "python",
   "nbconvert_exporter": "python",
   "pygments_lexer": "ipython3",
   "version": "3.11.4"
  }
 },
 "nbformat": 4,
 "nbformat_minor": 2
}
