{
 "cells": [
  {
   "cell_type": "code",
   "execution_count": 2,
   "metadata": {},
   "outputs": [
    {
     "name": "stdout",
     "output_type": "stream",
     "text": [
      "Image paths updated successfully.\n"
     ]
    }
   ],
   "source": [
    "import json\n",
    "import random\n",
    "# Split into training and eval\n",
    "\n",
    "orig_data_path = '/Users/declanbracken/Development/UofT_Projects/Meng_Project/code_base/Synthetic_Image_Annotation/Cleaned_JSON/cleaned_deleted_transcripts.json'\n",
    "\n",
    "# Load your JSON data\n",
    "with open(orig_data_path, 'r') as file:\n",
    "    data = json.load(file)\n",
    "\n",
    "# Define the new path prefix\n",
    "new_path_prefix = '/Users/declanbracken/Development/UofT_Projects/Meng_Project/code_base/'\n",
    "\n",
    "# Update the image paths\n",
    "for entry in data:\n",
    "    entry['image'] = new_path_prefix + entry['image']\n",
    "\n",
    "# Save the updated JSON data back to the file\n",
    "with open('modified_data.json', 'w') as file:\n",
    "    json.dump(data, file, indent=4)\n",
    "\n",
    "print(\"Image paths updated successfully.\")\n",
    "\n",
    "# Load your dataset\n",
    "with open('modified_data.json', 'r') as file:\n",
    "    data = json.load(file)\n",
    "    \n",
    "# Shuffle the data\n",
    "random.shuffle(data)\n",
    "\n",
    "# Determine the split point\n",
    "split_index = int(0.8 * len(data))\n",
    "\n",
    "# Split the data\n",
    "train_data = data[:split_index]\n",
    "val_data = data[split_index:]\n",
    "\n",
    "# Save the split data\n",
    "train_path = \"train_data.json\"\n",
    "val_path = \"val_data.json\"\n",
    "\n",
    "with open(train_path, 'w') as train_file:\n",
    "    json.dump(train_data, train_file, indent=4)\n",
    "\n",
    "with open(val_path, 'w') as val_file:\n",
    "    json.dump(val_data, val_file, indent=4)\n"
   ]
  }
 ],
 "metadata": {
  "kernelspec": {
   "display_name": "yolo_env",
   "language": "python",
   "name": "python3"
  },
  "language_info": {
   "codemirror_mode": {
    "name": "ipython",
    "version": 3
   },
   "file_extension": ".py",
   "mimetype": "text/x-python",
   "name": "python",
   "nbconvert_exporter": "python",
   "pygments_lexer": "ipython3",
   "version": "3.9.6"
  }
 },
 "nbformat": 4,
 "nbformat_minor": 2
}
