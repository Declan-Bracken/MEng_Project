{
 "cells": [
  {
   "cell_type": "code",
   "execution_count": 1,
   "metadata": {},
   "outputs": [
    {
     "name": "stdout",
     "output_type": "stream",
     "text": [
      "Modified JSON data saved to 'modified_data.json'\n"
     ]
    }
   ],
   "source": [
    "import json\n",
    "\n",
    "# Load the JSON data\n",
    "with open('/Users/declanbracken/Development/UofT_Projects/Meng_Project/code_base/Synthetic_Image_Annotation/Cleaned_JSON/cleaned_transcripts.json', 'r') as file:\n",
    "    data = json.load(file)\n",
    "\n",
    "# Specify the number of entries you want to keep\n",
    "N = 32\n",
    "\n",
    "# Select the first N entries\n",
    "selected_entries = data[:N]\n",
    "\n",
    "# Remove the 4th entry (index 3) if it exists\n",
    "if len(selected_entries) > 3:\n",
    "    del selected_entries[3]\n",
    "\n",
    "# Save the modified JSON data\n",
    "with open('modified_data.json', 'w') as file:\n",
    "    json.dump(selected_entries, file, indent=4)\n",
    "\n",
    "print(\"Modified JSON data saved to 'modified_data.json'\")\n"
   ]
  }
 ],
 "metadata": {
  "kernelspec": {
   "display_name": "NLP_env",
   "language": "python",
   "name": "python3"
  },
  "language_info": {
   "codemirror_mode": {
    "name": "ipython",
    "version": 3
   },
   "file_extension": ".py",
   "mimetype": "text/x-python",
   "name": "python",
   "nbconvert_exporter": "python",
   "pygments_lexer": "ipython3",
   "version": "3.11.4"
  }
 },
 "nbformat": 4,
 "nbformat_minor": 2
}
