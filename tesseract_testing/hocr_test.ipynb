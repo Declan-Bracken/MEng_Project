{
 "cells": [
  {
   "cell_type": "code",
   "execution_count": 3,
   "metadata": {},
   "outputs": [],
   "source": [
    "from PIL import Image\n",
    "import pytesseract\n",
    "import numpy as np\n",
    "\n",
    "filename = '/Users/declanbracken/Development/UofT_Projects/Meng_Project/Transcripts/Test transcripts/2_cropped_single_table.png'\n",
    "img = Image.open(filename)\n",
    "img1 = np.array(img)\n",
    "text = pytesseract.image_to_string(img1)\n",
    "img.show()\n"
   ]
  },
  {
   "cell_type": "code",
   "execution_count": 7,
   "metadata": {},
   "outputs": [
    {
     "name": "stdout",
     "output_type": "stream",
     "text": [
      "Page number: 0\n",
      "Orientation in degrees: 0\n",
      "Rotate: 0\n",
      "Orientation confidence: 6.89\n",
      "Script: Latin\n",
      "Script confidence: 4.05\n",
      "\n"
     ]
    }
   ],
   "source": [
    "# Get HOCR output\n",
    "print(pytesseract.image_to_osd(img))"
   ]
  },
  {
   "cell_type": "code",
   "execution_count": 21,
   "metadata": {},
   "outputs": [
    {
     "name": "stdout",
     "output_type": "stream",
     "text": [
      "Dean's Honor List\n",
      "-- 2020 Fall/Winter --\n",
      "COMPSCI 1026A COMP SCI FUNDAMENTALS I 0.5 084 251 82\n",
      "COMPSCI 1027B COMP SCI FUNDAMENTALS II 0.5 066 166 73\n",
      "GEOGRAPH 2143A FOUNDATNS OF GEOG OF WRLD BUS 0.5 086 286 87\n",
      "MATH 1600B LINEAR ALGEBRA I 0.5 F 132.572\n",
      "Repeated, No Credit\n",
      "\n",
      "MOS 2310A FINANCE 0.5 ORE LAR ee\n",
      "MOS 3311B ADVANCED FINANCE 0.5 066 46 74\n",
      "MOS 3313B FINANCIAL MARKETS & INSTIT 0.5 084 47 76\n",
      "POLISCI 1020E INTRODUCTION TO POLI SCI 1.0 073 661 74\n",
      "WRITING 2111F INTRO TO PROFESSIONAL WRITING 0.5 WDN\n",
      "\n"
     ]
    }
   ],
   "source": [
    "custom_oem_psm_config = r'--oem 1 --psm 6'\n",
    "print(pytesseract.image_to_string(img, config=custom_oem_psm_config))"
   ]
  }
 ],
 "metadata": {
  "kernelspec": {
   "display_name": "yolo_env",
   "language": "python",
   "name": "python3"
  },
  "language_info": {
   "codemirror_mode": {
    "name": "ipython",
    "version": 3
   },
   "file_extension": ".py",
   "mimetype": "text/x-python",
   "name": "python",
   "nbconvert_exporter": "python",
   "pygments_lexer": "ipython3",
   "version": "3.9.6"
  }
 },
 "nbformat": 4,
 "nbformat_minor": 2
}
