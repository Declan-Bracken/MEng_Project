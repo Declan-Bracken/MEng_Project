{
 "cells": [
  {
   "cell_type": "code",
   "execution_count": 1,
   "metadata": {},
   "outputs": [],
   "source": [
    "import pandas as pd\n",
    "import plotly.graph_objects as go\n",
    "import plotly.express as px"
   ]
  },
  {
   "cell_type": "code",
   "execution_count": 3,
   "metadata": {},
   "outputs": [
    {
     "ename": "KeyError",
     "evalue": "'Points'",
     "output_type": "error",
     "traceback": [
      "\u001b[0;31m---------------------------------------------------------------------------\u001b[0m",
      "\u001b[0;31mKeyError\u001b[0m                                  Traceback (most recent call last)",
      "File \u001b[0;32m~/Development/UofT_Projects/Meng_Project/code_base/yolo_env/lib/python3.8/site-packages/pandas/core/indexes/base.py:3653\u001b[0m, in \u001b[0;36mIndex.get_loc\u001b[0;34m(self, key)\u001b[0m\n\u001b[1;32m   3652\u001b[0m \u001b[38;5;28;01mtry\u001b[39;00m:\n\u001b[0;32m-> 3653\u001b[0m     \u001b[38;5;28;01mreturn\u001b[39;00m \u001b[38;5;28;43mself\u001b[39;49m\u001b[38;5;241;43m.\u001b[39;49m\u001b[43m_engine\u001b[49m\u001b[38;5;241;43m.\u001b[39;49m\u001b[43mget_loc\u001b[49m\u001b[43m(\u001b[49m\u001b[43mcasted_key\u001b[49m\u001b[43m)\u001b[49m\n\u001b[1;32m   3654\u001b[0m \u001b[38;5;28;01mexcept\u001b[39;00m \u001b[38;5;167;01mKeyError\u001b[39;00m \u001b[38;5;28;01mas\u001b[39;00m err:\n",
      "File \u001b[0;32m~/Development/UofT_Projects/Meng_Project/code_base/yolo_env/lib/python3.8/site-packages/pandas/_libs/index.pyx:147\u001b[0m, in \u001b[0;36mpandas._libs.index.IndexEngine.get_loc\u001b[0;34m()\u001b[0m\n",
      "File \u001b[0;32m~/Development/UofT_Projects/Meng_Project/code_base/yolo_env/lib/python3.8/site-packages/pandas/_libs/index.pyx:176\u001b[0m, in \u001b[0;36mpandas._libs.index.IndexEngine.get_loc\u001b[0;34m()\u001b[0m\n",
      "File \u001b[0;32mpandas/_libs/hashtable_class_helper.pxi:7080\u001b[0m, in \u001b[0;36mpandas._libs.hashtable.PyObjectHashTable.get_item\u001b[0;34m()\u001b[0m\n",
      "File \u001b[0;32mpandas/_libs/hashtable_class_helper.pxi:7088\u001b[0m, in \u001b[0;36mpandas._libs.hashtable.PyObjectHashTable.get_item\u001b[0;34m()\u001b[0m\n",
      "\u001b[0;31mKeyError\u001b[0m: 'Points'",
      "\nThe above exception was the direct cause of the following exception:\n",
      "\u001b[0;31mKeyError\u001b[0m                                  Traceback (most recent call last)",
      "Cell \u001b[0;32mIn[3], line 58\u001b[0m\n\u001b[1;32m     56\u001b[0m df \u001b[38;5;241m=\u001b[39m pd\u001b[38;5;241m.\u001b[39mread_csv(\u001b[38;5;124m'\u001b[39m\u001b[38;5;124m/Users/declanbracken/Development/UofT_Projects/Meng_Project/Sample_Transcript_Output_Files/file_0.csv\u001b[39m\u001b[38;5;124m'\u001b[39m)\n\u001b[1;32m     57\u001b[0m \u001b[38;5;66;03m# df = pd.DataFrame(data)\u001b[39;00m\n\u001b[0;32m---> 58\u001b[0m dashboard \u001b[38;5;241m=\u001b[39m \u001b[43mStudentTranscriptDashboard\u001b[49m\u001b[43m(\u001b[49m\u001b[43mdf\u001b[49m\u001b[43m)\u001b[49m\n\u001b[1;32m     59\u001b[0m \u001b[38;5;28mprint\u001b[39m(\u001b[38;5;124m\"\u001b[39m\u001b[38;5;124mCumulative GPA:\u001b[39m\u001b[38;5;124m\"\u001b[39m, dashboard\u001b[38;5;241m.\u001b[39mcalculate_gpa())\n\u001b[1;32m     60\u001b[0m dashboard\u001b[38;5;241m.\u001b[39mplot_grade_distribution()\u001b[38;5;241m.\u001b[39mshow()\n",
      "Cell \u001b[0;32mIn[3], line 4\u001b[0m, in \u001b[0;36mStudentTranscriptDashboard.__init__\u001b[0;34m(self, dataframe)\u001b[0m\n\u001b[1;32m      2\u001b[0m \u001b[38;5;28;01mdef\u001b[39;00m \u001b[38;5;21m__init__\u001b[39m(\u001b[38;5;28mself\u001b[39m, dataframe):\n\u001b[1;32m      3\u001b[0m     \u001b[38;5;28mself\u001b[39m\u001b[38;5;241m.\u001b[39mdf \u001b[38;5;241m=\u001b[39m dataframe\n\u001b[0;32m----> 4\u001b[0m     \u001b[38;5;28mself\u001b[39m\u001b[38;5;241m.\u001b[39mdf[\u001b[38;5;124m'\u001b[39m\u001b[38;5;124mPoints\u001b[39m\u001b[38;5;124m'\u001b[39m] \u001b[38;5;241m=\u001b[39m pd\u001b[38;5;241m.\u001b[39mto_numeric(\u001b[38;5;28;43mself\u001b[39;49m\u001b[38;5;241;43m.\u001b[39;49m\u001b[43mdf\u001b[49m\u001b[43m[\u001b[49m\u001b[38;5;124;43m'\u001b[39;49m\u001b[38;5;124;43mPoints\u001b[39;49m\u001b[38;5;124;43m'\u001b[39;49m\u001b[43m]\u001b[49m, errors\u001b[38;5;241m=\u001b[39m\u001b[38;5;124m'\u001b[39m\u001b[38;5;124mcoerce\u001b[39m\u001b[38;5;124m'\u001b[39m)  \u001b[38;5;66;03m# Clean points data\u001b[39;00m\n\u001b[1;32m      5\u001b[0m     \u001b[38;5;66;03m# Expanded grade mapping to include pass/fail and withdrawals\u001b[39;00m\n\u001b[1;32m      6\u001b[0m     \u001b[38;5;28mself\u001b[39m\u001b[38;5;241m.\u001b[39mgrade_mapping \u001b[38;5;241m=\u001b[39m {\u001b[38;5;124m'\u001b[39m\u001b[38;5;124mA+\u001b[39m\u001b[38;5;124m'\u001b[39m: \u001b[38;5;241m4.0\u001b[39m, \u001b[38;5;124m'\u001b[39m\u001b[38;5;124mA\u001b[39m\u001b[38;5;124m'\u001b[39m: \u001b[38;5;241m4.0\u001b[39m, \u001b[38;5;124m'\u001b[39m\u001b[38;5;124mA-\u001b[39m\u001b[38;5;124m'\u001b[39m: \u001b[38;5;241m3.7\u001b[39m, \u001b[38;5;124m'\u001b[39m\u001b[38;5;124mB+\u001b[39m\u001b[38;5;124m'\u001b[39m: \u001b[38;5;241m3.3\u001b[39m, \u001b[38;5;124m'\u001b[39m\u001b[38;5;124mB\u001b[39m\u001b[38;5;124m'\u001b[39m: \u001b[38;5;241m3.0\u001b[39m, \u001b[38;5;124m'\u001b[39m\u001b[38;5;124mB-\u001b[39m\u001b[38;5;124m'\u001b[39m: \u001b[38;5;241m2.7\u001b[39m, \n\u001b[1;32m      7\u001b[0m                           \u001b[38;5;124m'\u001b[39m\u001b[38;5;124mC+\u001b[39m\u001b[38;5;124m'\u001b[39m: \u001b[38;5;241m2.3\u001b[39m, \u001b[38;5;124m'\u001b[39m\u001b[38;5;124mC\u001b[39m\u001b[38;5;124m'\u001b[39m: \u001b[38;5;241m2.0\u001b[39m, \u001b[38;5;124m'\u001b[39m\u001b[38;5;124mC-\u001b[39m\u001b[38;5;124m'\u001b[39m: \u001b[38;5;241m1.7\u001b[39m, \u001b[38;5;124m'\u001b[39m\u001b[38;5;124mD+\u001b[39m\u001b[38;5;124m'\u001b[39m: \u001b[38;5;241m1.3\u001b[39m, \u001b[38;5;124m'\u001b[39m\u001b[38;5;124mD\u001b[39m\u001b[38;5;124m'\u001b[39m: \u001b[38;5;241m1.0\u001b[39m, \u001b[38;5;124m'\u001b[39m\u001b[38;5;124mD-\u001b[39m\u001b[38;5;124m'\u001b[39m: \u001b[38;5;241m0.7\u001b[39m, \u001b[38;5;124m'\u001b[39m\u001b[38;5;124mF\u001b[39m\u001b[38;5;124m'\u001b[39m: \u001b[38;5;241m0.0\u001b[39m,\n\u001b[1;32m      8\u001b[0m                           \u001b[38;5;124m'\u001b[39m\u001b[38;5;124mP\u001b[39m\u001b[38;5;124m'\u001b[39m: \u001b[38;5;28;01mNone\u001b[39;00m, \u001b[38;5;124m'\u001b[39m\u001b[38;5;124mNP\u001b[39m\u001b[38;5;124m'\u001b[39m: \u001b[38;5;28;01mNone\u001b[39;00m, \u001b[38;5;124m'\u001b[39m\u001b[38;5;124mW\u001b[39m\u001b[38;5;124m'\u001b[39m: \u001b[38;5;28;01mNone\u001b[39;00m, \u001b[38;5;124m'\u001b[39m\u001b[38;5;124mWDN\u001b[39m\u001b[38;5;124m'\u001b[39m: \u001b[38;5;28;01mNone\u001b[39;00m}\n",
      "File \u001b[0;32m~/Development/UofT_Projects/Meng_Project/code_base/yolo_env/lib/python3.8/site-packages/pandas/core/frame.py:3761\u001b[0m, in \u001b[0;36mDataFrame.__getitem__\u001b[0;34m(self, key)\u001b[0m\n\u001b[1;32m   3759\u001b[0m \u001b[38;5;28;01mif\u001b[39;00m \u001b[38;5;28mself\u001b[39m\u001b[38;5;241m.\u001b[39mcolumns\u001b[38;5;241m.\u001b[39mnlevels \u001b[38;5;241m>\u001b[39m \u001b[38;5;241m1\u001b[39m:\n\u001b[1;32m   3760\u001b[0m     \u001b[38;5;28;01mreturn\u001b[39;00m \u001b[38;5;28mself\u001b[39m\u001b[38;5;241m.\u001b[39m_getitem_multilevel(key)\n\u001b[0;32m-> 3761\u001b[0m indexer \u001b[38;5;241m=\u001b[39m \u001b[38;5;28;43mself\u001b[39;49m\u001b[38;5;241;43m.\u001b[39;49m\u001b[43mcolumns\u001b[49m\u001b[38;5;241;43m.\u001b[39;49m\u001b[43mget_loc\u001b[49m\u001b[43m(\u001b[49m\u001b[43mkey\u001b[49m\u001b[43m)\u001b[49m\n\u001b[1;32m   3762\u001b[0m \u001b[38;5;28;01mif\u001b[39;00m is_integer(indexer):\n\u001b[1;32m   3763\u001b[0m     indexer \u001b[38;5;241m=\u001b[39m [indexer]\n",
      "File \u001b[0;32m~/Development/UofT_Projects/Meng_Project/code_base/yolo_env/lib/python3.8/site-packages/pandas/core/indexes/base.py:3655\u001b[0m, in \u001b[0;36mIndex.get_loc\u001b[0;34m(self, key)\u001b[0m\n\u001b[1;32m   3653\u001b[0m     \u001b[38;5;28;01mreturn\u001b[39;00m \u001b[38;5;28mself\u001b[39m\u001b[38;5;241m.\u001b[39m_engine\u001b[38;5;241m.\u001b[39mget_loc(casted_key)\n\u001b[1;32m   3654\u001b[0m \u001b[38;5;28;01mexcept\u001b[39;00m \u001b[38;5;167;01mKeyError\u001b[39;00m \u001b[38;5;28;01mas\u001b[39;00m err:\n\u001b[0;32m-> 3655\u001b[0m     \u001b[38;5;28;01mraise\u001b[39;00m \u001b[38;5;167;01mKeyError\u001b[39;00m(key) \u001b[38;5;28;01mfrom\u001b[39;00m \u001b[38;5;21;01merr\u001b[39;00m\n\u001b[1;32m   3656\u001b[0m \u001b[38;5;28;01mexcept\u001b[39;00m \u001b[38;5;167;01mTypeError\u001b[39;00m:\n\u001b[1;32m   3657\u001b[0m     \u001b[38;5;66;03m# If we have a listlike key, _check_indexing_error will raise\u001b[39;00m\n\u001b[1;32m   3658\u001b[0m     \u001b[38;5;66;03m#  InvalidIndexError. Otherwise we fall through and re-raise\u001b[39;00m\n\u001b[1;32m   3659\u001b[0m     \u001b[38;5;66;03m#  the TypeError.\u001b[39;00m\n\u001b[1;32m   3660\u001b[0m     \u001b[38;5;28mself\u001b[39m\u001b[38;5;241m.\u001b[39m_check_indexing_error(key)\n",
      "\u001b[0;31mKeyError\u001b[0m: 'Points'"
     ]
    }
   ],
   "source": [
    "class StudentTranscriptDashboard:\n",
    "    def __init__(self, dataframe):\n",
    "        self.df = dataframe\n",
    "        self.df['Points'] = pd.to_numeric(self.df['Points'], errors='coerce')  # Clean points data\n",
    "        # Expanded grade mapping to include pass/fail and withdrawals\n",
    "        self.grade_mapping = {'A+': 4.0, 'A': 4.0, 'A-': 3.7, 'B+': 3.3, 'B': 3.0, 'B-': 2.7, \n",
    "                              'C+': 2.3, 'C': 2.0, 'C-': 1.7, 'D+': 1.3, 'D': 1.0, 'D-': 0.7, 'F': 0.0,\n",
    "                              'P': None, 'NP': None, 'W': None, 'WDN': None}  # 'P' and 'NP' for pass/no pass, 'W' and 'WDN' for withdrawals\n",
    "\n",
    "    def calculate_gpa(self):\n",
    "        # Filter out non-numeric grades\n",
    "        valid_grades_df = self.df[self.df['Grade'].map(self.grade_mapping).notna()]\n",
    "        valid_grades_df['Weighted Grade'] = valid_grades_df['Units'] * valid_grades_df['Grade'].map(self.grade_mapping)\n",
    "        total_points = valid_grades_df['Weighted Grade'].sum()\n",
    "        total_units = valid_grades_df['Units'].sum()\n",
    "        if total_units > 0:\n",
    "            gpa = total_points / total_units\n",
    "        else:\n",
    "            gpa = 0\n",
    "        return gpa\n",
    "\n",
    "    def plot_grade_distribution(self):\n",
    "        fig = px.histogram(self.df, x='Grade', category_orders={\"Grade\": [g for g in sorted(self.grade_mapping.keys(), key=lambda x: (self.grade_mapping[x] if self.grade_mapping[x] is not None else -1))]})\n",
    "        fig.update_layout(title=\"Grade Distribution\")\n",
    "        return fig\n",
    "\n",
    "    def plot_course_levels(self):\n",
    "        self.df['Level'] = self.df['Course Description'].str.extract('(\\d+)').astype(int) // 100 * 100\n",
    "        fig = px.pie(self.df, names='Level', title='Distribution of Course Levels')\n",
    "        return fig\n",
    "\n",
    "    def plot_elective_vs_core(self):\n",
    "        self.df['Course Type'] = self.df['Course Description'].apply(lambda x: 'Core' if 'ELEC' in x or 'MTHE' in x else 'Elective')\n",
    "        fig = px.box(self.df, x='Course Type', y='Points', title='Elective vs Core Course Performance')\n",
    "        return fig\n",
    "\n",
    "    def find_anomalies(self):\n",
    "        mean = self.df['Points'].mean()\n",
    "        std_dev = self.df['Points'].std()\n",
    "        anomalies = self.df[(self.df['Points'] > mean + 2 * std_dev) | (self.df['Points'] < mean - 2 * std_dev)]\n",
    "        return anomalies\n",
    "\n",
    "    def flag_failures_and_special_cases(self):\n",
    "        # Identify failures and non-standard cases\n",
    "        self.df['Status'] = self.df['Grade'].map(lambda x: 'Fail' if x == 'F' else 'Special' if self.grade_mapping[x] is None else 'Normal')\n",
    "        flagged = self.df[self.df['Status'] != 'Normal']\n",
    "        return flagged\n",
    "\n",
    "if __name__ == \"__main__\":\n",
    "    # Usage example\n",
    "    data = {\n",
    "        \"Course Description\": [\"APSC 221 Economic And Business Practice\", \"ELEC 210 Intro Elec Circuits & Machines\", \"MINE 244 Underground Mining\"],\n",
    "        \"Units\": [3.00, 4.00, 3.00],\n",
    "        \"Grade\": [\"A\", \"WDN\", \"F\"],\n",
    "        \"Points\": [12.0, None, 0.0]\n",
    "    }\n",
    "    df = pd.DataFrame(data)\n",
    "    dashboard = StudentTranscriptDashboard(df)\n",
    "    print(\"Cumulative GPA:\", dashboard.calculate_gpa())\n",
    "    dashboard.plot_grade_distribution().show()\n",
    "    dashboard.plot_course_levels().show()\n",
    "    dashboard.plot_elective_vs_core().show()\n",
    "    print(\"Anomalies:\\n\", dashboard.find_anomalies())\n",
    "    print(\"Flagged:\\n\", dashboard.flag_failures_and_special_cases())"
   ]
  }
 ],
 "metadata": {
  "kernelspec": {
   "display_name": "yolo_env",
   "language": "python",
   "name": "python3"
  },
  "language_info": {
   "codemirror_mode": {
    "name": "ipython",
    "version": 3
   },
   "file_extension": ".py",
   "mimetype": "text/x-python",
   "name": "python",
   "nbconvert_exporter": "python",
   "pygments_lexer": "ipython3",
   "version": "3.9.6"
  }
 },
 "nbformat": 4,
 "nbformat_minor": 2
}
