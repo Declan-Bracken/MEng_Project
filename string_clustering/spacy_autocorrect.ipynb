{
 "cells": [
  {
   "cell_type": "code",
   "execution_count": 1,
   "metadata": {},
   "outputs": [
    {
     "name": "stderr",
     "output_type": "stream",
     "text": [
      "/Users/declanbracken/Development/UofT_Projects/Meng_Project/code_base/yolo_env/lib/python3.8/site-packages/huggingface_hub/file_download.py:1132: FutureWarning: `resume_download` is deprecated and will be removed in version 1.0.0. Downloads always resume when possible. If you want to force a new download, use `force_download=True`.\n",
      "  warnings.warn(\n"
     ]
    },
    {
     "data": {
      "application/vnd.jupyter.widget-view+json": {
       "model_id": "f776ace6dcc7454085382e57bbb53eea",
       "version_major": 2,
       "version_minor": 0
      },
      "text/plain": [
       "tokenizer_config.json:   0%|          | 0.00/49.0 [00:00<?, ?B/s]"
      ]
     },
     "metadata": {},
     "output_type": "display_data"
    },
    {
     "data": {
      "application/vnd.jupyter.widget-view+json": {
       "model_id": "915bf8e9bf9e40a0a25c9f554e02e7ac",
       "version_major": 2,
       "version_minor": 0
      },
      "text/plain": [
       "config.json:   0%|          | 0.00/570 [00:00<?, ?B/s]"
      ]
     },
     "metadata": {},
     "output_type": "display_data"
    },
    {
     "data": {
      "application/vnd.jupyter.widget-view+json": {
       "model_id": "b21b94036bca48feaee7acc602f0640c",
       "version_major": 2,
       "version_minor": 0
      },
      "text/plain": [
       "vocab.txt:   0%|          | 0.00/213k [00:00<?, ?B/s]"
      ]
     },
     "metadata": {},
     "output_type": "display_data"
    },
    {
     "data": {
      "application/vnd.jupyter.widget-view+json": {
       "model_id": "d9a9a3fb3e81482292394ca97d253ad9",
       "version_major": 2,
       "version_minor": 0
      },
      "text/plain": [
       "tokenizer.json:   0%|          | 0.00/436k [00:00<?, ?B/s]"
      ]
     },
     "metadata": {},
     "output_type": "display_data"
    },
    {
     "data": {
      "application/vnd.jupyter.widget-view+json": {
       "model_id": "e79865f093b84c6a811ea20276882dea",
       "version_major": 2,
       "version_minor": 0
      },
      "text/plain": [
       "model.safetensors:   0%|          | 0.00/436M [00:00<?, ?B/s]"
      ]
     },
     "metadata": {},
     "output_type": "display_data"
    },
    {
     "name": "stdout",
     "output_type": "stream",
     "text": [
      "True\n",
      "Income was $9.4 million compared to the prior year of $2.7 million.\n"
     ]
    }
   ],
   "source": [
    "import spacy\n",
    "import contextualSpellCheck\n",
    "\n",
    "nlp = spacy.load('en_core_web_sm')\n",
    "contextualSpellCheck.add_to_pipe(nlp)\n",
    "doc = nlp('Income was $9.4 milion compared to the prior year of $2.7 milion.')\n",
    "\n",
    "print(doc._.performed_spellCheck) #Should be True\n",
    "print(doc._.outcome_spellCheck)"
   ]
  },
  {
   "cell_type": "code",
   "execution_count": 3,
   "metadata": {},
   "outputs": [
    {
     "name": "stdout",
     "output_type": "stream",
     "text": [
      "True\n",
      "AS\t200\tEngr Design & Practice\t4\tAt\t17.2\tPhysics\n",
      "AS\t293\tEngineering Communications\t1\tAt\t4.3\tLanguage and Literature\n",
      "IT\t230\tSolid Mechanics |\t4.25\tAt\t18.3\tPhysics\n",
      "IEEE\t230\tApplied Thermodynamics |\t3.5\tAt\t15\tPhysics\n",
      "MINE\t201\tIntro To Mining/Mineral Proces\t4\tA\t16\tHistory\n",
      "MINE\t202\tThe Apps/Innovation In Mining\t1.5\tA\t6\tComputer Science\n",
      "AS\t225\tOrdinary Differential Equation\t3.5\tA\t14\tMathematics\n",
      "AS\t100\tEngineering Practice\t0\tNG\t0\tPhysics\n",
      "AS\t111\tMechanics\t3.5\tA\t14\tPhysics\n",
      "|\t131\tChemistry And Materials\t3.5\tA\t14\tPhysics\n",
      "AC\t151\tEarth Systems And Engineering\t4\tAt\t17.2\tEnvironmental Science\n",
      "AP\t161\tEngineering Graphics\t3.5\tA\t14\tComputer Science\n",
      "AP\t171\tCalculus |\t3.5\tAt\t15\tMathematics\n",
      "AT\t201\tRoman History\t3\tAt\t12.9\tHistory\n",
      "BC\t111\tIntroductory Economics\t3\tA-\t11.1\tEconomics\n",
      "MINE\t321\tDrilling & Blasting\t4.5\tA-\t16.6\tPhysics\n",
      "MINE\t331\tMethods Of Mineral Separation\t4.5\tA-\t16.6\tEnvironmental Science\n",
      "MINE\t339\tMine Ventilation\t4.5\tC\t10.4\tEnvironmental Science\n",
      "MINE\t341\tOpen Pit Mining\t4.5\tA-\t16.6\tComputer Science\n",
      "AS\t 170\tEngineering Practice\t11\tA-\t40.7\tPhysics\n",
      "AC\t112\tElectricity And Materials\t3.5\tB\t11.6\tPhysics\n",
      "AC\t132\tChemistry And The Environment\t3.5\tB\t10.5\tEnvironmental Science\n",
      "AP\t142\tIntro Computer Program Engrs\t3\tA-\t11.1\tComputer Science\n",
      "AP\t172\tCalculus II\t3.5\tA-\t13\tMathematics\n",
      "AS\t174\tIntroduction To Linear Algebra\t3.5\tAt\t15\tMathematics\n",
      "AS\t221\tEconomic And Business Practice\t3\tA\t12\tBusiness\n",
      "Ethics\t210\tIntro Elec Circuits & Machines\t4\tA-\t14.8\tComputer Science\n",
      "MINE\t244\tUnderground Mining\t3\tAt\t9.9\tEnvironmental Science\n",
      "MINE\t267\tApply/Instrument Meth Mine\t4\tA-\t14.8\tComputer Science\n",
      "AT\t272\tApplications Numerical Methods.\t3.5\tAt\t15\tComputer Science\n",
      "-\t367\tEngineering Data Analysis\t4\tB-\t10.8\tMathematics\n"
     ]
    }
   ],
   "source": [
    "doc = nlp(\"\"\"APSC\t200\tEngr Design & Practice\t4\tAt\t17.2\tPhysics\n",
    "APSC\t293\tEngineering Communications\t1\tAt\t4.3\tLanguage and Literature\n",
    "CIVL\t230\tSolid Mechanics |\t4.25\tAt\t18.3\tPhysics\n",
    "MECH\t230\tApplied Thermodynamics |\t3.5\tAt\t15\tPhysics\n",
    "MINE\t201\tIntro To Mining/Mineral Proces\t4\tA\t16\tHistory\n",
    "MINE\t202\tComp Apps/Instrumntn In Mining\t1.5\tA\t6\tComputer Science\n",
    "MTHE\t225\tOrdinary Differential Equation\t3.5\tA\t14\tMathematics\n",
    "APSC\t100A\tEngineering Practice\t0\tNG\t0\tPhysics\n",
    "APSC\t111\tMechanics\t3.5\tA\t14\tPhysics\n",
    "APSC\t131\tChemistry And Materials\t3.5\tA\t14\tPhysics\n",
    "APSC\t151\tEarth Systems And Engineering\t4\tAt\t17.2\tEnvironmental Science\n",
    "APSC\t161\tEngineering Graphics\t3.5\tA\t14\tComputer Science\n",
    "APSGC\t171\tCalculus |\t3.5\tAt\t15\tMathematics\n",
    "CLST\t201\tRoman History\t3\tAt\t12.9\tHistory\n",
    "ECON\t111\tIntroductory Microeconomics\t3\tA-\t11.1\tEconomics\n",
    "MINE\t321\tDrilling & Blasting\t4.5\tA-\t16.6\tPhysics\n",
    "MINE\t331\tMethods Of Mineral Separation\t4.5\tA-\t16.6\tEnvironmental Science\n",
    "MINE\t339\tMine Ventilation\t4.5\tCt\t10.4\tEnvironmental Science\n",
    "MINE\t341\tOpen Pit Mining\t4.5\tA-\t16.6\tComputer Science\n",
    "APSC\t 100B\tEngineering Practice\t11\tA-\t40.7\tPhysics\n",
    "APSC\t112\tElectricity And Magnetism\t3.5\tB+\t11.6\tPhysics\n",
    "APSC\t132\tChemistry And The Environment\t3.5\tB\t10.5\tEnvironmental Science\n",
    "APSC\t142\tIntro Computer Program Engrs\t3\tA-\t11.1\tComputer Science\n",
    "APSC\t172\tCalculus II\t3.5\tA-\t13\tMathematics\n",
    "APSC\t174\tIntroduction To Linear Algebra\t3.5\tAt\t15\tMathematics\n",
    "APSC\t221\tEconomic And Business Practice\t3\tA\t12\tBusiness\n",
    "ELEC\t210\tIntro Elec Circuits & Machines\t4\tA-\t14.8\tComputer Science\n",
    "MINE\t244\tUnderground Mining\t3\tBt\t9.9\tEnvironmental Science\n",
    "MINE\t267\tApp Chem/Instrument Meth Mine\t4\tA-\t14.8\tComputer Science\n",
    "MTHE\t272\tApplications Numerical Methods.\t3.5\tAt\t15\tComputer Science\n",
    "MTHE\t367\tEngineering Data Analysis\t4\tB-\t10.8\tMathematics\"\"\")\n",
    "print(doc._.performed_spellCheck) #Should be True\n",
    "print(doc._.outcome_spellCheck)"
   ]
  },
  {
   "cell_type": "code",
   "execution_count": null,
   "metadata": {},
   "outputs": [],
   "source": []
  }
 ],
 "metadata": {
  "kernelspec": {
   "display_name": "yolo_env",
   "language": "python",
   "name": "python3"
  },
  "language_info": {
   "codemirror_mode": {
    "name": "ipython",
    "version": 3
   },
   "file_extension": ".py",
   "mimetype": "text/x-python",
   "name": "python",
   "nbconvert_exporter": "python",
   "pygments_lexer": "ipython3",
   "version": "3.8.9"
  }
 },
 "nbformat": 4,
 "nbformat_minor": 2
}
